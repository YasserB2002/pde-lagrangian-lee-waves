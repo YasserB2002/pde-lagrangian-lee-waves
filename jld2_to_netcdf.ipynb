{
 "cells": [
  {
   "cell_type": "code",
   "execution_count": 1,
   "metadata": {},
   "outputs": [
    {
     "data": {
      "text/plain": [
       "model_pickup (generic function with 1 method)"
      ]
     },
     "metadata": {},
     "output_type": "display_data"
    }
   ],
   "source": [
    "using Oceananigans\n",
    "using Oceananigans.Units\n",
    "using Oceananigans.ImmersedBoundaries: PartialCellBottom\n",
    "using Oceananigans.Models.NonhydrostaticModels: ConjugateGradientPoissonSolver\n",
    "using Printf\n",
    "using SpecialFunctions\n",
    "\n",
    "include(\"model_functions_with_xi.jl\")"
   ]
  },
  {
   "cell_type": "code",
   "execution_count": 2,
   "metadata": {},
   "outputs": [
    {
     "data": {
      "text/plain": [
       "\"checkpoint_files\\\\model_checkpoint_weight_iteration6871.jld2\""
      ]
     },
     "metadata": {},
     "output_type": "display_data"
    }
   ],
   "source": [
    "checkpoint0_loc = raw\"checkpoint_files\\model_checkpoint_weight_iteration0.jld2\"\n",
    "checkpoint1_loc = raw\"checkpoint_files\\model_checkpoint_weight_iteration1662.jld2\"\n",
    "checkpoint2_loc = raw\"checkpoint_files\\model_checkpoint_weight_iteration3403.jld2\"\n",
    "checkpoint3_loc = raw\"checkpoint_files\\model_checkpoint_weight_iteration5146.jld2\"\n",
    "checkpoint4_loc = raw\"checkpoint_files\\model_checkpoint_weight_iteration6871.jld2\""
   ]
  },
  {
   "cell_type": "code",
   "execution_count": null,
   "metadata": {},
   "outputs": [],
   "source": [
    "model_pickup(\"day0\", initial_time=0days, interval_time=0days, checkpoint_file_path=checkpoint0_loc)"
   ]
  },
  {
   "cell_type": "code",
   "execution_count": null,
   "metadata": {},
   "outputs": [],
   "source": [
    "model_pickup(\"day1\", initial_time=1days, interval_time=0days, checkpoint_file_path=checkpoint1_loc)"
   ]
  },
  {
   "cell_type": "code",
   "execution_count": null,
   "metadata": {},
   "outputs": [],
   "source": [
    "model_pickup(\"day2\", initial_time=2days, interval_time=0days, checkpoint_file_path=checkpoint2_loc)"
   ]
  },
  {
   "cell_type": "code",
   "execution_count": null,
   "metadata": {},
   "outputs": [],
   "source": [
    "model_pickup(\"day3\", initial_time=3days, interval_time=0days, checkpoint_file_path=checkpoint3_loc)"
   ]
  },
  {
   "cell_type": "code",
   "execution_count": null,
   "metadata": {},
   "outputs": [],
   "source": [
    "model_pickup(\"day4\", initial_time=4days, interval_time=0days, checkpoint_file_path=checkpoint4_loc)"
   ]
  },
  {
   "cell_type": "code",
   "execution_count": null,
   "metadata": {},
   "outputs": [],
   "source": [
    "model_pickup(\"day5\", initial_time=5days, interval_time=0days, checkpoint_file_path=checkpoint5_loc)"
   ]
  }
 ],
 "metadata": {
  "kernelspec": {
   "display_name": "Julia 1.10.5",
   "language": "julia",
   "name": "julia-1.10"
  },
  "language_info": {
   "file_extension": ".jl",
   "mimetype": "application/julia",
   "name": "julia",
   "version": "1.10.5"
  }
 },
 "nbformat": 4,
 "nbformat_minor": 2
}
